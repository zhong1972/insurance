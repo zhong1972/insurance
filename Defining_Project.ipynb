{
  "nbformat": 4,
  "nbformat_minor": 0,
  "metadata": {
    "colab": {
      "provenance": []
    },
    "kernelspec": {
      "name": "python3",
      "display_name": "Python 3"
    },
    "language_info": {
      "name": "python"
    }
  },
  "cells": [
    {
      "cell_type": "code",
      "execution_count": 6,
      "metadata": {
        "colab": {
          "base_uri": "https://localhost:8080/"
        },
        "id": "EvYnYNGa02j9",
        "outputId": "30ef4a02-0f0e-4d48-8981-eba5c011ae0d"
      },
      "outputs": [
        {
          "output_type": "stream",
          "name": "stdout",
          "text": [
            "Index(['Complaint number', 'Complaint filed against', 'Complaint filed by',\n",
            "       'Reason complaint filed', 'Confirmed complaint', 'How resolved',\n",
            "       'Received date', 'Closed date', 'Complaint type', 'Coverage type',\n",
            "       'Coverage level', 'Others involved', 'Respondent ID', 'Respondent Role',\n",
            "       'Respondent type', 'Complainant type', 'Keywords'],\n",
            "      dtype='object')\n"
          ]
        }
      ],
      "source": [
        "path='https://data.austintexas.gov/api/views/ubdr-4uff/rows.csv?accessType=DOWNLOAD'\n",
        "import pandas as pd\n",
        "from urllib import request\n",
        "request.urlretrieve(path, 'complaints.csv')\n",
        "# Load the dataset\n",
        "df = pd.read_csv('/content/complaints.csv')\n",
        "\n",
        "# # Display the first few rows of the dataset\n",
        "# print(df.head())\n",
        "print(df.columns)\n",
        "\n",
        "# # Perform analysis\n",
        "# # Example: Count complaints by insurance type\n",
        "# insurance_complaints = df[df['product'].str.contains('Insurance', case=False)]\n",
        "# complaints_by_type = insurance_complaints['sub-product'].value_counts()\n",
        "\n",
        "# print(complaints_by_type)"
      ]
    },
    {
      "cell_type": "code",
      "source": [
        "df1=df[:500]\n",
        "df1.to_csv('sample_data.csv')"
      ],
      "metadata": {
        "id": "rEF-vylu2xFX"
      },
      "execution_count": 8,
      "outputs": []
    }
  ]
}